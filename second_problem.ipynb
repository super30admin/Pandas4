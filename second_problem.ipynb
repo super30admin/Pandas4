{
 "cells": [
  {
   "cell_type": "code",
   "execution_count": 1,
   "metadata": {},
   "outputs": [
    {
     "name": "stdout",
     "output_type": "stream",
     "text": [
      "  Voter_name  Voter_age\n",
      "0      Geek1       15.0\n",
      "1      Geek2       23.0\n",
      "2      Geek3       25.0\n",
      "3      Geek4        9.0\n",
      "4      Geek5       67.0\n",
      "5      Geek6       54.0\n",
      "6      Geek7       42.0\n",
      "7      Geek8        NaN\n"
     ]
    }
   ],
   "source": [
    "import pandas as pd\n",
    "import numpy as np\n",
    "\n",
    "raw_data={'Voter_name':['Geek1','Geek2','Geek3','Geek4','Geek5','Geek6','Geek7','Geek8'],\n",
    "          'Voter_age':[15,23,25,9,67,54,42,np.NAN]}\n",
    "df=pd.DataFrame(raw_data,columns=['Voter_name','Voter_age'])\n",
    "print(df)"
   ]
  },
  {
   "cell_type": "code",
   "execution_count": 2,
   "metadata": {},
   "outputs": [
    {
     "name": "stdout",
     "output_type": "stream",
     "text": [
      "  Voter_name  Voter_age     Voter\n",
      "0      Geek1       15.0        No\n",
      "1      Geek2       23.0       Yes\n",
      "2      Geek3       25.0       Yes\n",
      "3      Geek4        9.0        No\n",
      "4      Geek5       67.0       Yes\n",
      "5      Geek6       54.0       Yes\n",
      "6      Geek7       42.0       Yes\n",
      "7      Geek8        NaN  Not Sure\n"
     ]
    }
   ],
   "source": [
    "#Create a pandas column using for loop\n",
    "elligible=[]\n",
    "for age in df['Voter_age']:\n",
    "    if age>=18:\n",
    "        elligible.append('Yes')\n",
    "    elif age < 18:\n",
    "        elligible.append('No')\n",
    "    else:\n",
    "        elligible.append('Not Sure')\n",
    "    \n",
    "df['Voter']=elligible\n",
    "print(df)"
   ]
  },
  {
   "cell_type": "code",
   "execution_count": null,
   "metadata": {},
   "outputs": [],
   "source": []
  }
 ],
 "metadata": {
  "kernelspec": {
   "display_name": "base",
   "language": "python",
   "name": "python3"
  },
  "language_info": {
   "codemirror_mode": {
    "name": "ipython",
    "version": 3
   },
   "file_extension": ".py",
   "mimetype": "text/x-python",
   "name": "python",
   "nbconvert_exporter": "python",
   "pygments_lexer": "ipython3",
   "version": "3.9.12"
  },
  "orig_nbformat": 4
 },
 "nbformat": 4,
 "nbformat_minor": 2
}
