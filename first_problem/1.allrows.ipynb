{
 "cells": [
  {
   "cell_type": "code",
   "execution_count": 1,
   "metadata": {},
   "outputs": [
    {
     "name": "stdout",
     "output_type": "stream",
     "text": [
      "       Name    Team Position  Number  Age Height  Weight   College  Salary\n",
      "ind1  Geeks  Boston       PG       3   33    6-2      89       MIT   99999\n",
      "ind2  Peter  Boston       PG       4   25    6-4      79       MIT   99994\n",
      "ind3  James  Boston       UG       7   34    5-9     113       MIT   89999\n",
      "ind4   Jack   Chele       PG      11   35    6-1      78  Stanford   78889\n",
      "ind5   Lisa   Barse       UG       5   28    5-8      84  Stanford   87779 \n",
      "\n",
      "Check PG values in Position column:\n",
      "\n",
      "ind1     True\n",
      "ind2     True\n",
      "ind3    False\n",
      "ind4     True\n",
      "ind5    False\n",
      "Name: Position, dtype: bool\n"
     ]
    }
   ],
   "source": [
    "#Code1: Check the values PG in column Position\n",
    "\n",
    "import pandas as pd\n",
    "\n",
    "\n",
    "df = pd.DataFrame({'Name': ['Geeks', 'Peter', 'James', 'Jack', 'Lisa'],\n",
    "\t\t\t\t'Team': ['Boston', 'Boston', 'Boston', 'Chele', 'Barse'],\n",
    "\t\t\t\t'Position': ['PG', 'PG', 'UG', 'PG', 'UG'],\n",
    "\t\t\t\t'Number': [3, 4, 7, 11, 5],\n",
    "\t\t\t\t'Age': [33, 25, 34, 35, 28],\n",
    "\t\t\t\t'Height': ['6-2', '6-4', '5-9', '6-1', '5-8'],\n",
    "\t\t\t\t'Weight': [89, 79, 113, 78, 84],\n",
    "\t\t\t\t'College': ['MIT', 'MIT', 'MIT', 'Stanford', 'Stanford'],\n",
    "\t\t\t\t'Salary': [99999, 99994, 89999, 78889, 87779]},\n",
    "\t\t\t\tindex =['ind1', 'ind2', 'ind3', 'ind4', 'ind5'])\n",
    "print(df, \"\\n\")\n",
    "\n",
    "print(\"Check PG values in Position column:\\n\")\n",
    "df1 = df['Position'].str.contains(\"PG\")\n",
    "print(df1)\n",
    "\n"
   ]
  },
  {
   "cell_type": "code",
   "execution_count": 2,
   "metadata": {},
   "outputs": [
    {
     "name": "stdout",
     "output_type": "stream",
     "text": [
      "       Name    Team Position  Number  Age Height  Weight   College  Salary\n",
      "ind1  Geeks  Boston       PG       3   33    6-2      89       MIT   99999\n",
      "ind2  Peter  Boston       PG       4   25    6-4      79       MIT   99994\n",
      "ind4   Jack   Chele       PG      11   35    6-1      78  Stanford   78889\n"
     ]
    }
   ],
   "source": [
    "#Code 2: Getting the rows satisfying condition\n",
    "df1 = df[df['Position'].str.contains(\"PG\")]\n",
    "print(df1)\n"
   ]
  },
  {
   "cell_type": "code",
   "execution_count": 4,
   "metadata": {},
   "outputs": [
    {
     "name": "stdout",
     "output_type": "stream",
     "text": [
      "       Name    Team Position  Number  Age Height  Weight College  Salary\n",
      "ind1  Geeks  Boston       PG       3   33    6-2      89     MIT   99999\n",
      "ind2  Peter  Boston       PG       4   25    6-4      79     MIT   99994\n",
      "ind3  James  Boston       UG       7   34    5-9     113     MIT   89999\n"
     ]
    }
   ],
   "source": [
    "#Code 3: Filter all rows where either Team contains ‘Boston’ or College contains ‘MIT’.\n",
    "df1=df[(df['Team']=='Boston') | (df['College']=='MIT')]\n",
    "print(df1)\n"
   ]
  },
  {
   "cell_type": "code",
   "execution_count": 10,
   "metadata": {},
   "outputs": [
    {
     "name": "stdout",
     "output_type": "stream",
     "text": [
      "             Name            Team  Number Position   Age Height  Weight  \\\n",
      "0   Avery Bradley  Boston Celtics     0.0       PG  25.0    6-2   180.0   \n",
      "8    Terry Rozier  Boston Celtics    12.0       PG  22.0    6-2   190.0   \n",
      "9    Marcus Smart  Boston Celtics    36.0       PG  22.0    6-4   220.0   \n",
      "11  Isaiah Thomas  Boston Celtics     4.0       PG  27.0    5-9   185.0   \n",
      "\n",
      "           College     Salary  \n",
      "0            Texas  7730337.0  \n",
      "8       Louisville  1824360.0  \n",
      "9   Oklahoma State  3431040.0  \n",
      "11      Washington  6912869.0  \n"
     ]
    }
   ],
   "source": [
    "#Code 4: Filter rows checking Team name contains ‘Boston and Position must be PG.\n",
    "import pandas as pd\n",
    "df=pd.read_csv('nba.csv')\n",
    "df1=df[df['Team'].str.contains('Boston') & df['Position'].str.contains('PG')]\n",
    "print(df1)\n",
    "\n",
    "\n"
   ]
  },
  {
   "cell_type": "code",
   "execution_count": 11,
   "metadata": {},
   "outputs": [
    {
     "name": "stdout",
     "output_type": "stream",
     "text": [
      "                  Name                    Team  Number Position   Age Height  \\\n",
      "142    Darren Collison        Sacramento Kings     7.0       PG  28.0    6-0   \n",
      "264      Jordan Farmar       Memphis Grizzlies     4.0       PG  29.0    6-2   \n",
      "290       Jrue Holiday    New Orleans Pelicans    11.0       PG  25.0    6-4   \n",
      "402        Zach LaVine  Minnesota Timberwolves     8.0       PG  21.0    6-5   \n",
      "426  Russell Westbrook   Oklahoma City Thunder     0.0       PG  27.0    6-3   \n",
      "\n",
      "     Weight College      Salary  \n",
      "142   175.0    UCLA   5013559.0  \n",
      "264   180.0    UCLA         NaN  \n",
      "290   205.0    UCLA  10595507.0  \n",
      "402   189.0    UCLA   2148360.0  \n",
      "426   200.0    UCLA  16744218.0  \n"
     ]
    }
   ],
   "source": [
    "#Code #5: Filter rows checking Position contains PG and College must contains like UC.\n",
    "import pandas as pd\n",
    "df=pd.read_csv('nba.csv')\n",
    "df1=df[df['College'].str.contains('UC') & df['Position'].str.contains('PG')]\n",
    "print(df1)\n"
   ]
  },
  {
   "cell_type": "code",
   "execution_count": null,
   "metadata": {},
   "outputs": [],
   "source": []
  }
 ],
 "metadata": {
  "kernelspec": {
   "display_name": "base",
   "language": "python",
   "name": "python3"
  },
  "language_info": {
   "codemirror_mode": {
    "name": "ipython",
    "version": 3
   },
   "file_extension": ".py",
   "mimetype": "text/x-python",
   "name": "python",
   "nbconvert_exporter": "python",
   "pygments_lexer": "ipython3",
   "version": "3.9.12"
  },
  "orig_nbformat": 4
 },
 "nbformat": 4,
 "nbformat_minor": 2
}
