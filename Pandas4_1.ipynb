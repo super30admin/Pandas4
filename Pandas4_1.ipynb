{
  "nbformat": 4,
  "nbformat_minor": 0,
  "metadata": {
    "colab": {
      "provenance": []
    },
    "kernelspec": {
      "name": "python3",
      "display_name": "Python 3"
    },
    "language_info": {
      "name": "python"
    }
  },
  "cells": [
    {
      "cell_type": "code",
      "execution_count": null,
      "metadata": {
        "id": "N_r889SsMk00"
      },
      "outputs": [],
      "source": [
        "import pandas as pd\n",
        "\n",
        "def nth_highest_salary(employee: pd.DataFrame, N: int) -> pd.DataFrame:\n",
        "    sorted_salaries = employee['salary'].drop_duplicates().sort_values(ascending=False)\n",
        "\n",
        "    if N > len(sorted_salaries):\n",
        "        return pd.DataFrame({f'getNthHighestSalary({N})': [None]})\n",
        "    nth_highest = sorted_salaries.iloc[N - 1]\n",
        "    return pd.DataFrame({f'getNthHighestSalary({N})': [nth_highest]})\n"
      ]
    }
  ]
}