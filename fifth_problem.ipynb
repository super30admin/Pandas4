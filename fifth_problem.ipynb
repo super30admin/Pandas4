{
 "cells": [
  {
   "cell_type": "markdown",
   "metadata": {},
   "source": [
    "Get unique values from a column in Pandas DataFrame\n"
   ]
  },
  {
   "cell_type": "code",
   "execution_count": 1,
   "metadata": {},
   "outputs": [
    {
     "data": {
      "text/plain": [
       "array(['B1', 'B2', 'B3', 'B4'], dtype=object)"
      ]
     },
     "execution_count": 1,
     "metadata": {},
     "output_type": "execute_result"
    }
   ],
   "source": [
    "#Example 1: Get the unique values of ‘B’ column\n",
    "\n",
    "import pandas as pd\n",
    "\n",
    "data = {\n",
    "\t'A':['A1', 'A2', 'A3', 'A4', 'A5'],\n",
    "\t'B':['B1', 'B2', 'B3', 'B4', 'B4'],\n",
    "\t'C':['C1', 'C2', 'C3', 'C3', 'C3'],\n",
    "\t'D':['D1', 'D2', 'D2', 'D2', 'D2'],\n",
    "\t'E':['E1', 'E1', 'E1', 'E1', 'E1'] }\n",
    "\n",
    "df = pd.DataFrame(data)\n",
    "df.B.unique()\n",
    "\n"
   ]
  },
  {
   "cell_type": "code",
   "execution_count": 2,
   "metadata": {},
   "outputs": [
    {
     "data": {
      "text/plain": [
       "array(['E1'], dtype=object)"
      ]
     },
     "execution_count": 2,
     "metadata": {},
     "output_type": "execute_result"
    }
   ],
   "source": [
    "#Example 2: Get the unique values of ‘E’ column\n",
    "\n",
    "df['E'].unique()\n",
    "\n"
   ]
  },
  {
   "cell_type": "code",
   "execution_count": 3,
   "metadata": {},
   "outputs": [
    {
     "data": {
      "text/plain": [
       "3"
      ]
     },
     "execution_count": 3,
     "metadata": {},
     "output_type": "execute_result"
    }
   ],
   "source": [
    "#Example 3: Get number of unique values in a column C\n",
    "df['C'].nunique(dropna=True)"
   ]
  },
  {
   "cell_type": "code",
   "execution_count": null,
   "metadata": {},
   "outputs": [],
   "source": []
  }
 ],
 "metadata": {
  "kernelspec": {
   "display_name": "base",
   "language": "python",
   "name": "python3"
  },
  "language_info": {
   "codemirror_mode": {
    "name": "ipython",
    "version": 3
   },
   "file_extension": ".py",
   "mimetype": "text/x-python",
   "name": "python",
   "nbconvert_exporter": "python",
   "pygments_lexer": "ipython3",
   "version": "3.9.12"
  },
  "orig_nbformat": 4
 },
 "nbformat": 4,
 "nbformat_minor": 2
}
