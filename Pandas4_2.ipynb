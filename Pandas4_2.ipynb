{
  "nbformat": 4,
  "nbformat_minor": 0,
  "metadata": {
    "colab": {
      "provenance": []
    },
    "kernelspec": {
      "name": "python3",
      "display_name": "Python 3"
    },
    "language_info": {
      "name": "python"
    }
  },
  "cells": [
    {
      "cell_type": "code",
      "execution_count": null,
      "metadata": {
        "id": "N_r889SsMk00"
      },
      "outputs": [],
      "source": [
        "import pandas as pd\n",
        "\n",
        "def second_highest_salary(employee: pd.DataFrame) -> pd.DataFrame:\n",
        "    sorted_salaries = employee['salary'].drop_duplicates().sort_values(ascending=False)\n",
        "\n",
        "    if 2 > len(sorted_salaries):\n",
        "        return pd.DataFrame({'SecondHighestSalary': [None]})\n",
        "    nth_highest = sorted_salaries.iloc[1]\n",
        "    return pd.DataFrame({'SecondHighestSalary': [nth_highest]})\n"
      ]
    }
  ]
}