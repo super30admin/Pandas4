{
 "cells": [
  {
   "cell_type": "markdown",
   "metadata": {},
   "source": [
    "How to rename columns in Pandas DataFrame\n"
   ]
  },
  {
   "cell_type": "code",
   "execution_count": 1,
   "metadata": {},
   "outputs": [
    {
     "name": "stdout",
     "output_type": "stream",
     "text": [
      "           test           odi          t20\n",
      "0         India       England     Pakistan\n",
      "1  South Africa         India        India\n",
      "2       England   New Zealand    Australia\n",
      "3   New Zealand  South Africa      England\n",
      "4     Australia      Pakistan  New Zealand\n",
      "\n",
      "After modifying first column:\n",
      " Index(['TEST', 'odi', 't20'], dtype='object')\n"
     ]
    }
   ],
   "source": [
    "#Method 1: Using rename() function\n",
    "import pandas as pd\n",
    "\n",
    "rankings = {'test': ['India', 'South Africa', 'England',\n",
    "\t\t\t\t\t\t\t'New Zealand', 'Australia'],\n",
    "\t\t\t'odi': ['England', 'India', 'New Zealand',\n",
    "\t\t\t\t\t\t\t'South Africa', 'Pakistan'],\n",
    "\t\t\t't20': ['Pakistan', 'India', 'Australia',\n",
    "\t\t\t\t\t\t\t'England', 'New Zealand']}\n",
    "\n",
    "rankings_pd = pd.DataFrame(rankings)\n",
    "print(rankings_pd)\n",
    "rankings_pd.rename(columns = {'test':'TEST'}, inplace = True)\n",
    "print(\"\\nAfter modifying first column:\\n\", rankings_pd.columns)\n"
   ]
  },
  {
   "cell_type": "code",
   "execution_count": 2,
   "metadata": {},
   "outputs": [
    {
     "name": "stdout",
     "output_type": "stream",
     "text": [
      "           test           odi          t20\n",
      "0         India       England     Pakistan\n",
      "1  South Africa         India        India\n",
      "2       England   New Zealand    Australia\n",
      "3   New Zealand  South Africa      England\n",
      "4     Australia      Pakistan  New Zealand\n",
      "\n",
      "After modifying first column:\n",
      " Index(['TEST', 'ODI', 'T20'], dtype='object')\n"
     ]
    }
   ],
   "source": [
    "#Example 2: Rename multiple columns. \n",
    "import pandas as pd\n",
    "\n",
    "rankings = {'test': ['India', 'South Africa', 'England',\n",
    "\t\t\t\t\t\t\t'New Zealand', 'Australia'],\n",
    "\t\t\t'odi': ['England', 'India', 'New Zealand',\n",
    "\t\t\t\t\t\t\t'South Africa', 'Pakistan'],\n",
    "\t\t\t't20': ['Pakistan', 'India', 'Australia',\n",
    "\t\t\t\t\t\t\t'England', 'New Zealand']}\n",
    "\n",
    "rankings_pd = pd.DataFrame(rankings)\n",
    "print(rankings_pd)\n",
    "rankings_pd.rename(columns = {'test':'TEST','odi':'ODI','t20':'T20'}, inplace = True)\n",
    "print(\"\\nAfter modifying first column:\\n\", rankings_pd.columns)\n"
   ]
  },
  {
   "cell_type": "code",
   "execution_count": 3,
   "metadata": {},
   "outputs": [
    {
     "name": "stdout",
     "output_type": "stream",
     "text": [
      "Index(['test', 'odi', 't20'], dtype='object')\n",
      "Index(['TEST', 'ODI', 'T-20'], dtype='object')\n"
     ]
    }
   ],
   "source": [
    "#Method 2: By assigning a list of new column names \n",
    "\n",
    "import pandas as pd\n",
    "rankings = {'test': ['India', 'South Africa', 'England',\n",
    "\t\t\t\t\t\t\t'New Zealand', 'Australia'],\n",
    "\t\t\t'odi': ['England', 'India', 'New Zealand',\n",
    "\t\t\t\t\t\t\t'South Africa', 'Pakistan'],\n",
    "\t\t\t't20': ['Pakistan', 'India', 'Australia',\n",
    "\t\t\t\t\t\t\t'England', 'New Zealand']}\n",
    "\n",
    "rankings_pd = pd.DataFrame(rankings)\n",
    "print(rankings_pd.columns)\n",
    "rankings_pd.columns = ['TEST', 'ODI', 'T-20']\n",
    "print(rankings_pd.columns)\n",
    "\n"
   ]
  },
  {
   "cell_type": "code",
   "execution_count": 4,
   "metadata": {},
   "outputs": [
    {
     "name": "stdout",
     "output_type": "stream",
     "text": [
      "Index(['test', 'odi', 't20'], dtype='object')\n",
      "Index(['A', 'B', 'C'], dtype='object')\n"
     ]
    },
    {
     "data": {
      "text/html": [
       "<div>\n",
       "<style scoped>\n",
       "    .dataframe tbody tr th:only-of-type {\n",
       "        vertical-align: middle;\n",
       "    }\n",
       "\n",
       "    .dataframe tbody tr th {\n",
       "        vertical-align: top;\n",
       "    }\n",
       "\n",
       "    .dataframe thead th {\n",
       "        text-align: right;\n",
       "    }\n",
       "</style>\n",
       "<table border=\"1\" class=\"dataframe\">\n",
       "  <thead>\n",
       "    <tr style=\"text-align: right;\">\n",
       "      <th></th>\n",
       "      <th>A</th>\n",
       "      <th>B</th>\n",
       "      <th>C</th>\n",
       "    </tr>\n",
       "  </thead>\n",
       "  <tbody>\n",
       "    <tr>\n",
       "      <th>0</th>\n",
       "      <td>India</td>\n",
       "      <td>England</td>\n",
       "      <td>Pakistan</td>\n",
       "    </tr>\n",
       "    <tr>\n",
       "      <th>1</th>\n",
       "      <td>South Africa</td>\n",
       "      <td>India</td>\n",
       "      <td>India</td>\n",
       "    </tr>\n",
       "    <tr>\n",
       "      <th>2</th>\n",
       "      <td>England</td>\n",
       "      <td>New Zealand</td>\n",
       "      <td>Australia</td>\n",
       "    </tr>\n",
       "    <tr>\n",
       "      <th>3</th>\n",
       "      <td>New Zealand</td>\n",
       "      <td>South Africa</td>\n",
       "      <td>England</td>\n",
       "    </tr>\n",
       "    <tr>\n",
       "      <th>4</th>\n",
       "      <td>Australia</td>\n",
       "      <td>Pakistan</td>\n",
       "      <td>New Zealand</td>\n",
       "    </tr>\n",
       "  </tbody>\n",
       "</table>\n",
       "</div>"
      ],
      "text/plain": [
       "              A             B            C\n",
       "0         India       England     Pakistan\n",
       "1  South Africa         India        India\n",
       "2       England   New Zealand    Australia\n",
       "3   New Zealand  South Africa      England\n",
       "4     Australia      Pakistan  New Zealand"
      ]
     },
     "execution_count": 4,
     "metadata": {},
     "output_type": "execute_result"
    }
   ],
   "source": [
    "#Method 3: Rename column names using DataFrame set_axis() function\n",
    "import pandas as pd\n",
    "\n",
    "rankings = {'test': ['India', 'South Africa', 'England',\n",
    "\t\t\t\t\t'New Zealand', 'Australia'],\n",
    "\t\t\t'odi': ['England', 'India', 'New Zealand',\n",
    "\t\t\t\t\t'South Africa', 'Pakistan'],\n",
    "\t\t\t't20': ['Pakistan', 'India', 'Australia',\n",
    "\t\t\t\t\t'England', 'New Zealand']}\n",
    "\n",
    "rankings_pd = pd.DataFrame(rankings)\n",
    "print(rankings_pd.columns)\n",
    "rankings_pd.set_axis(['A', 'B', 'C'], axis='columns', inplace=True)\n",
    "print(rankings_pd.columns)\n",
    "rankings_pd.head()\n"
   ]
  },
  {
   "cell_type": "code",
   "execution_count": 5,
   "metadata": {},
   "outputs": [
    {
     "name": "stdout",
     "output_type": "stream",
     "text": [
      "Index(['test', 'odi', 't20'], dtype='object')\n"
     ]
    },
    {
     "data": {
      "text/html": [
       "<div>\n",
       "<style scoped>\n",
       "    .dataframe tbody tr th:only-of-type {\n",
       "        vertical-align: middle;\n",
       "    }\n",
       "\n",
       "    .dataframe tbody tr th {\n",
       "        vertical-align: top;\n",
       "    }\n",
       "\n",
       "    .dataframe thead th {\n",
       "        text-align: right;\n",
       "    }\n",
       "</style>\n",
       "<table border=\"1\" class=\"dataframe\">\n",
       "  <thead>\n",
       "    <tr style=\"text-align: right;\">\n",
       "      <th></th>\n",
       "      <th>col_test_1</th>\n",
       "      <th>col_odi_1</th>\n",
       "      <th>col_t20_1</th>\n",
       "    </tr>\n",
       "  </thead>\n",
       "  <tbody>\n",
       "    <tr>\n",
       "      <th>0</th>\n",
       "      <td>India</td>\n",
       "      <td>England</td>\n",
       "      <td>Pakistan</td>\n",
       "    </tr>\n",
       "    <tr>\n",
       "      <th>1</th>\n",
       "      <td>South Africa</td>\n",
       "      <td>India</td>\n",
       "      <td>India</td>\n",
       "    </tr>\n",
       "    <tr>\n",
       "      <th>2</th>\n",
       "      <td>England</td>\n",
       "      <td>New Zealand</td>\n",
       "      <td>Australia</td>\n",
       "    </tr>\n",
       "    <tr>\n",
       "      <th>3</th>\n",
       "      <td>New Zealand</td>\n",
       "      <td>South Africa</td>\n",
       "      <td>England</td>\n",
       "    </tr>\n",
       "    <tr>\n",
       "      <th>4</th>\n",
       "      <td>Australia</td>\n",
       "      <td>Pakistan</td>\n",
       "      <td>New Zealand</td>\n",
       "    </tr>\n",
       "  </tbody>\n",
       "</table>\n",
       "</div>"
      ],
      "text/plain": [
       "     col_test_1     col_odi_1    col_t20_1\n",
       "0         India       England     Pakistan\n",
       "1  South Africa         India        India\n",
       "2       England   New Zealand    Australia\n",
       "3   New Zealand  South Africa      England\n",
       "4     Australia      Pakistan  New Zealand"
      ]
     },
     "execution_count": 5,
     "metadata": {},
     "output_type": "execute_result"
    }
   ],
   "source": [
    "#Method 4: Rename column names using DataFrame add_prefix() and add_suffix() functions\n",
    "\n",
    "import pandas as pd\n",
    "rankings = {'test': ['India', 'South Africa', 'England',\n",
    "\t\t\t\t\t'New Zealand', 'Australia'],\n",
    "\t\t\t'odi': ['England', 'India', 'New Zealand',\n",
    "\t\t\t\t\t'South Africa', 'Pakistan'],\n",
    "\t\t\t't20': ['Pakistan', 'India', 'Australia',\n",
    "\t\t\t\t\t'England', 'New Zealand']}\n",
    "\n",
    "rankings_pd = pd.DataFrame(rankings)\n",
    "print(rankings_pd.columns)\n",
    "rankings_pd = rankings_pd.add_prefix('col_')\n",
    "rankings_pd = rankings_pd.add_suffix('_1')\n",
    "rankings_pd.head()\n"
   ]
  },
  {
   "cell_type": "code",
   "execution_count": 6,
   "metadata": {},
   "outputs": [
    {
     "name": "stdout",
     "output_type": "stream",
     "text": [
      "Index(['test', 'odi', 't20'], dtype='object')\n"
     ]
    },
    {
     "data": {
      "text/html": [
       "<div>\n",
       "<style scoped>\n",
       "    .dataframe tbody tr th:only-of-type {\n",
       "        vertical-align: middle;\n",
       "    }\n",
       "\n",
       "    .dataframe tbody tr th {\n",
       "        vertical-align: top;\n",
       "    }\n",
       "\n",
       "    .dataframe thead th {\n",
       "        text-align: right;\n",
       "    }\n",
       "</style>\n",
       "<table border=\"1\" class=\"dataframe\">\n",
       "  <thead>\n",
       "    <tr style=\"text-align: right;\">\n",
       "      <th></th>\n",
       "      <th>Col_TEST</th>\n",
       "      <th>Col_ODI</th>\n",
       "      <th>Col_T20</th>\n",
       "    </tr>\n",
       "  </thead>\n",
       "  <tbody>\n",
       "    <tr>\n",
       "      <th>0</th>\n",
       "      <td>India</td>\n",
       "      <td>England</td>\n",
       "      <td>Pakistan</td>\n",
       "    </tr>\n",
       "    <tr>\n",
       "      <th>1</th>\n",
       "      <td>South Africa</td>\n",
       "      <td>India</td>\n",
       "      <td>India</td>\n",
       "    </tr>\n",
       "    <tr>\n",
       "      <th>2</th>\n",
       "      <td>England</td>\n",
       "      <td>New Zealand</td>\n",
       "      <td>Australia</td>\n",
       "    </tr>\n",
       "    <tr>\n",
       "      <th>3</th>\n",
       "      <td>New Zealand</td>\n",
       "      <td>South Africa</td>\n",
       "      <td>England</td>\n",
       "    </tr>\n",
       "    <tr>\n",
       "      <th>4</th>\n",
       "      <td>Australia</td>\n",
       "      <td>Pakistan</td>\n",
       "      <td>New Zealand</td>\n",
       "    </tr>\n",
       "  </tbody>\n",
       "</table>\n",
       "</div>"
      ],
      "text/plain": [
       "       Col_TEST       Col_ODI      Col_T20\n",
       "0         India       England     Pakistan\n",
       "1  South Africa         India        India\n",
       "2       England   New Zealand    Australia\n",
       "3   New Zealand  South Africa      England\n",
       "4     Australia      Pakistan  New Zealand"
      ]
     },
     "execution_count": 6,
     "metadata": {},
     "output_type": "execute_result"
    }
   ],
   "source": [
    "#Method 5: Replace specific texts of column names using Dataframe.columns.str.replace function\n",
    "\n",
    "import pandas as pd\n",
    "rankings = {'test': ['India', 'South Africa', 'England',\n",
    "\t\t\t\t\t'New Zealand', 'Australia'],\n",
    "\t\t\t'odi': ['England', 'India', 'New Zealand',\n",
    "\t\t\t\t\t'South Africa', 'Pakistan'],\n",
    "\t\t\t't20': ['Pakistan', 'India', 'Australia',\n",
    "\t\t\t\t\t'England', 'New Zealand']}\n",
    "\n",
    "rankings_pd = pd.DataFrame(rankings)\n",
    "print(rankings_pd.columns)\n",
    "rankings_pd.columns = rankings_pd.columns.str.replace('test', 'Col_TEST')\n",
    "rankings_pd.columns = rankings_pd.columns.str.replace('odi', 'Col_ODI')\n",
    "rankings_pd.columns = rankings_pd.columns.str.replace('t20', 'Col_T20')\n",
    "rankings_pd.head()\n"
   ]
  },
  {
   "cell_type": "code",
   "execution_count": null,
   "metadata": {},
   "outputs": [],
   "source": []
  }
 ],
 "metadata": {
  "kernelspec": {
   "display_name": "base",
   "language": "python",
   "name": "python3"
  },
  "language_info": {
   "codemirror_mode": {
    "name": "ipython",
    "version": 3
   },
   "file_extension": ".py",
   "mimetype": "text/x-python",
   "name": "python",
   "nbconvert_exporter": "python",
   "pygments_lexer": "ipython3",
   "version": "3.9.12"
  },
  "orig_nbformat": 4
 },
 "nbformat": 4,
 "nbformat_minor": 2
}
